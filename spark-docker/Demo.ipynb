{
 "cells": [
  {
   "cell_type": "code",
   "execution_count": 1,
   "id": "driven-interpretation",
   "metadata": {},
   "outputs": [],
   "source": [
    "import pyspark\n",
    "\n",
    "conf = pyspark.SparkConf()\n",
    "\n",
    "# Kubernetes is a Spark master in our setup. \n",
    "# It creates pods with Spark workers, orchestrates those \n",
    "# workers and returns final results to the Spark driver \n",
    "# (“k8s://https://” is NOT a typo, this is how Spark knows the “provider” type). \n",
    "conf.setMaster(\"k8s://https://kubernetes.default:443\") \n",
    "\n",
    "# Worker pods are created from the base Spark docker image.\n",
    "# If you use another image, specify its name instead.\n",
    "conf.set(\n",
    "    \"spark.kubernetes.container.image\", \n",
    "    \"peterhenell/spark-kubernetes-playground:executor\") \n",
    "\n",
    "# Authentication certificate and token (required to create worker pods):\n",
    "conf.set(\n",
    "    \"spark.kubernetes.authenticate.caCertFile\", \n",
    "    \"/var/run/secrets/kubernetes.io/serviceaccount/ca.crt\")\n",
    "conf.set(\n",
    "    \"spark.kubernetes.authenticate.oauthTokenFile\", \n",
    "    \"/var/run/secrets/kubernetes.io/serviceaccount/token\")\n",
    "\n",
    "# Service account which should be used for the driver\n",
    "conf.set(\n",
    "    \"spark.kubernetes.authenticate.driver.serviceAccountName\", \n",
    "    \"spark-master\") \n",
    "\n",
    "# 2 pods/workers will be created. Can be expanded for larger workloads.\n",
    "conf.set(\"spark.executor.instances\", \"2\") \n",
    "\n",
    "# The DNS alias for the Spark driver. Required by executors to report status.\n",
    "conf.set(\n",
    "    \"spark.driver.host\", \"jupyter-test-pod\") \n",
    "\n",
    "# Port which the Spark shell should bind to and to which executors will report progress\n",
    "conf.set(\"spark.driver.port\", \"29413\") \n",
    "\n",
    "# Initialize spark context, create executors\n",
    "sc = pyspark.SparkContext(conf=conf)"
   ]
  },
  {
   "cell_type": "code",
   "execution_count": 2,
   "id": "cordless-intermediate",
   "metadata": {},
   "outputs": [
    {
     "name": "stdout",
     "output_type": "stream",
     "text": [
      "Approximate sum: 45.0\n"
     ]
    }
   ],
   "source": [
    "# Create a distributed data set to test to the session\n",
    "t = sc.parallelize(range(10))\n",
    "\n",
    "# Calculate the approximate sum of values in the dataset\n",
    "r = t.sumApprox(3)\n",
    "print('Approximate sum: %s' % r)"
   ]
  },
  {
   "cell_type": "code",
   "execution_count": null,
   "id": "unsigned-catalog",
   "metadata": {},
   "outputs": [],
   "source": []
  }
 ],
 "metadata": {
  "kernelspec": {
   "display_name": "Python 3",
   "language": "python",
   "name": "python3"
  },
  "language_info": {
   "codemirror_mode": {
    "name": "ipython",
    "version": 3
   },
   "file_extension": ".py",
   "mimetype": "text/x-python",
   "name": "python",
   "nbconvert_exporter": "python",
   "pygments_lexer": "ipython3",
   "version": "3.7.3"
  }
 },
 "nbformat": 4,
 "nbformat_minor": 5
}
